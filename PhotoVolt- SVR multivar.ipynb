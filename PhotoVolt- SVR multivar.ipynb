{
 "cells": [
  {
   "cell_type": "markdown",
   "metadata": {},
   "source": [
    "###todo: add more variables from public data : time?\n",
    "###change settings on SVR\n",
    "\n",
    "### Sky cover, relative humidity, precipitation, temperature, dew point, wind speed\n",
    "\n",
    "Short term weather forecasts for next day as well as for next three days\n",
    "\n",
    " Photovoltaic, meteorological and radiative measurements at SIRTA\n",
    " ####Col 7: Measured solar irradiance on the plane of the panels (27.7�)(zone 1)\n",
    " ####Col 12: 2-m Air temperature (zone 1)\n",
    " ####Col 14: 10-m Wind speed (zone 1)"
   ]
  },
  {
   "cell_type": "code",
   "execution_count": 2,
   "metadata": {
    "collapsed": true
   },
   "outputs": [],
   "source": [
    "# IMPORT MODULES\n",
    "\n",
    "%matplotlib inline\n",
    "\n",
    "import datetime\n",
    "import time\n",
    "import numpy as np\n",
    "from sklearn.svm import SVR\n",
    "import matplotlib.pyplot as plt\n",
    "import matplotlib.dates as dts\n",
    "import calendar\n",
    "import sklearn.preprocessing as pp\n",
    "\n",
    "import pandas as pd"
   ]
  },
  {
   "cell_type": "code",
   "execution_count": 3,
   "metadata": {
    "collapsed": false
   },
   "outputs": [
    {
     "data": {
      "text/plain": [
       "'\\nprint(data.columns.values.tolist())\\n\\n\\nplt.xlabel(\\'Time\\')\\nplt.ylabel(\\'Irradiance\\')\\nplt.scatter(data[\"hh(UTC)\"], data[\"IrrPOA(W/m2)\"], c=\\'k\\', label=\\'data\\')\\nplt.show()\\n\\nplt.xlabel(\\'Temperature\\')\\nplt.ylabel(\\'Irradiance\\')\\nplt.scatter(data[\"T(C)\"], data[\"IrrPOA(W/m2)\"], c=\\'k\\', label=\\'data\\')\\nplt.show()\\n\\nplt.xlabel(\\'Wind Speed\\')\\nplt.ylabel(\\'Irradiance\\')\\nplt.scatter(data[\"WS(m/s)\"], data[\"IrrPOA(W/m2)\"], c=\\'k\\', label=\\'data\\')\\nplt.show()\\n'"
      ]
     },
     "execution_count": 3,
     "metadata": {},
     "output_type": "execute_result"
    }
   ],
   "source": [
    "# READ DATA\n",
    "data = pd.read_csv(\"DonneesMeteo.txt\", sep=\" \", header=1)\n",
    "data[\"Date\"] = pd.to_datetime(data[\"Date\"], format=\"%Y%m%d\")\n",
    "#data[\"hh(UTC)\"] = pd.to_datetime(data[\"hh(UTC)\"], format=\"%H.\")\n",
    "irrcor = data.corr()[\"IrrPOA(W/m2)\"].copy\n",
    "'''\n",
    "print(data.columns.values.tolist())\n",
    "\n",
    "\n",
    "plt.xlabel('Time')\n",
    "plt.ylabel('Irradiance')\n",
    "plt.scatter(data[\"hh(UTC)\"], data[\"IrrPOA(W/m2)\"], c='k', label='data')\n",
    "plt.show()\n",
    "\n",
    "plt.xlabel('Temperature')\n",
    "plt.ylabel('Irradiance')\n",
    "plt.scatter(data[\"T(C)\"], data[\"IrrPOA(W/m2)\"], c='k', label='data')\n",
    "plt.show()\n",
    "\n",
    "plt.xlabel('Wind Speed')\n",
    "plt.ylabel('Irradiance')\n",
    "plt.scatter(data[\"WS(m/s)\"], data[\"IrrPOA(W/m2)\"], c='k', label='data')\n",
    "plt.show()\n",
    "'''"
   ]
  },
  {
   "cell_type": "code",
   "execution_count": 6,
   "metadata": {
    "collapsed": false
   },
   "outputs": [],
   "source": [
    "dataset = np.array(data[[\"hh(UTC)\", \"IrrPOA(W/m2)\"]]).astype(np.float)\n",
    "\n",
    "#Remove nan and infinite values\n",
    "masknan = ~np.any(np.isnan(dataset), axis=1)\n",
    "dataset = dataset[masknan]\n",
    "maskfin = np.any(np.isfinite(dataset), axis=1)\n",
    "dataset = dataset[maskfin]\n",
    "X=dataset[:,0]\n",
    "y=dataset[:,1]\n",
    "\n",
    "X = np.reshape(X,(len(X),1))\n",
    "\n",
    "#SCALE INDEPENDENT DATA - no need here, because time is regular?\n",
    "#X=pp.StandardScaler().fit_transform(X)"
   ]
  },
  {
   "cell_type": "code",
   "execution_count": null,
   "metadata": {
    "collapsed": false
   },
   "outputs": [],
   "source": [
    "#svr_lin = SVR(kernel='linear')\n",
    "#svr_lin.fit(X, y)\n",
    "#y_lin = svr_lin.predict(X)\n",
    "\n",
    "svr_rbf = SVR(kernel='rbf')\n",
    "svr_rbf.fit(X, y)\n",
    "y_rbf = svr_rbf.predict(X)\n",
    "\n",
    "#svr_poly = SVR(kernel='poly')\n",
    "#svr_poly.fit(X, y)\n",
    "#y_poly = svr_poly.predict(X)\n",
    "\n",
    "# look at the results\n",
    "plt.scatter(X, y, c='k', label='data')\n",
    "plt.hold('on')\n",
    "#plt.plot(X, y_lin, c='r', label='Linear model')\n",
    "plt.plot(X, y_rbf, c='g', label='RBF model')\n",
    "#plt.plot(X, y_poly, c='b', label='Polynomial model')\n",
    "plt.xlabel('Time of Day')\n",
    "plt.ylabel('Irradiance')\n",
    "plt.title('Support Vector Regression')\n",
    "plt.legend()\n",
    "plt.show()\n",
    "\n",
    "#R^2 score: nearer 1 the better\n",
    "#print(svr_lin.score(X,y)) \n",
    "#print(svr_rbf.score(X,y)) \n",
    "print(svr_poly.score(X,y)) "
   ]
  }
 ],
 "metadata": {
  "kernelspec": {
   "display_name": "Python 3",
   "language": "python",
   "name": "python3"
  },
  "language_info": {
   "codemirror_mode": {
    "name": "ipython",
    "version": 3
   },
   "file_extension": ".py",
   "mimetype": "text/x-python",
   "name": "python",
   "nbconvert_exporter": "python",
   "pygments_lexer": "ipython3",
   "version": "3.4.3"
  }
 },
 "nbformat": 4,
 "nbformat_minor": 0
}
