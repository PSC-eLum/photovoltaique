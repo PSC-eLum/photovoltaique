{
 "cells": [
  {
   "cell_type": "code",
   "execution_count": 1,
   "metadata": {
    "collapsed": true
   },
   "outputs": [],
   "source": [
    "# IMPORT MODULES\n",
    "\n",
    "%matplotlib inline\n",
    "\n",
    "import datetime\n",
    "import time\n",
    "import numpy as np\n",
    "import matplotlib.pyplot as plt\n",
    "import matplotlib.dates as dts\n",
    "import calendar\n",
    "\n",
    "import sklearn.preprocessing as pp\n",
    "from sklearn.svm import SVR\n",
    "from sklearn.cross_validation import train_test_split\n",
    "from sklearn.metrics import r2_score\n",
    "from sklearn.metrics import mean_squared_error as rms\n",
    "from sklearn.metrics import mean_absolute_error as mae\n",
    "\n",
    "import pandas as pd"
   ]
  },
  {
   "cell_type": "code",
   "execution_count": 3,
   "metadata": {
    "collapsed": false
   },
   "outputs": [],
   "source": [
    "# READ DATA\n",
    "data = pd.read_excel(\"DonneesMeteo - 1an.xls\", sep=\" \", header=1)\n",
    "data[\"Date\"] = pd.to_datetime(data[\"Date\"], format=\"%Y%m%d\")\n",
    "\n",
    "hh = pd.DatetimeIndex(pd.to_datetime(data['hh(UTC)']*3600*1000000000))\n",
    "data['HOUR'] = hh.hour\n",
    "data['MINUTE'] = hh.minute"
   ]
  },
  {
   "cell_type": "code",
   "execution_count": 4,
   "metadata": {
    "collapsed": false
   },
   "outputs": [],
   "source": [
    "dataset = np.array(data[[\"IrrPOA(W/m2)\", \"P1(W)\"]]).astype(np.float)\n",
    "\n",
    "#Remove nan and infinite values\n",
    "masknan = ~np.any(np.isnan(dataset), axis=1)\n",
    "dataset = dataset[masknan]\n",
    "maskfin = np.any(np.isfinite(dataset), axis=1)\n",
    "dataset = dataset[maskfin]\n",
    "X=dataset[:,0:1]\n",
    "y=dataset[:,1]\n",
    "\n",
    "#SCALE INDEPENDENT DATA\n",
    "scaler = pp.StandardScaler()\n",
    "X[:,0]=scaler.fit_transform(X[:,0])\n",
    "\n",
    "#LABEL BINARIZER\n",
    "lbhour = pp.LabelBinarizer()\n",
    "lbhour.fit(list(range(24)))\n",
    "pp.LabelBinarizer(neg_label=0, pos_label=1)\n",
    "lbhour.classes_\n",
    "Hour=lbhour.transform(data[\"HOUR\"])\n",
    "\n",
    "lbmin = pp.LabelBinarizer()\n",
    "lbmin.fit(list(range(60)))\n",
    "pp.LabelBinarizer(neg_label=0, pos_label=1)\n",
    "lbmin.classes_\n",
    "Minute = lbmin.transform(data[\"MINUTE\"])\n",
    "\n",
    "Irr = np.reshape(X[:,0],(len(X),1))\n",
    "\n",
    "X=np.concatenate((Irr,Hour,Minute),axis=1)\n",
    "\n",
    "#X col 1 is irr, col 2-25 hours, col 26-86 min"
   ]
  },
  {
   "cell_type": "code",
   "execution_count": 7,
   "metadata": {
    "collapsed": false
   },
   "outputs": [],
   "source": [
    "X_full, X_test, y_full, y_test = train_test_split(X, y, test_size=0.2, random_state=0)\n",
    "X_training, X_CV, y_training, y_CV = train_test_split(X_full, y_full, test_size=0.5, random_state=0)\n",
    "\n",
    "bestgamma = 0.2\n",
    "bestC = 6"
   ]
  },
  {
   "cell_type": "code",
   "execution_count": 6,
   "metadata": {
    "collapsed": false
   },
   "outputs": [
    {
     "name": "stdout",
     "output_type": "stream",
     "text": [
      "C = 1\n",
      "C = 2\n",
      "C = 4\n",
      "C = 6\n",
      "C = 8\n",
      "C = 10\n",
      "C = 12\n",
      "C = 14\n",
      "C = 16\n",
      "C = 18\n",
      "C = 20\n"
     ]
    },
    {
     "data": {
      "text/plain": [
       "{'C': [1, 2, 4, 6, 8, 10, 12, 14, 16, 18, 20],\n",
       " 'r2CCV': [0.9602426662052943,\n",
       "  0.96054212992172416,\n",
       "  0.96072214239769127,\n",
       "  0.96076552801113191,\n",
       "  0.96075294911270859,\n",
       "  0.96075498258872238,\n",
       "  0.96075321104708344,\n",
       "  0.96073764282085516,\n",
       "  0.96072335640865814,\n",
       "  0.96071325898817195,\n",
       "  0.96071040335365787],\n",
       " 'rmsCCV': [99.986955566505586,\n",
       "  99.233824950074862,\n",
       "  98.781105974278219,\n",
       "  98.671994145358383,\n",
       "  98.703629208318688,\n",
       "  98.698515156232489,\n",
       "  98.702970461411041,\n",
       "  98.742123477862549,\n",
       "  98.778052820331297,\n",
       "  98.803447137231217,\n",
       "  98.810628861306526]}"
      ]
     },
     "execution_count": 6,
     "metadata": {},
     "output_type": "execute_result"
    },
    {
     "data": {
      "image/png": "[encoded data removed]",
      "text/plain": [
       "<matplotlib.figure.Figure at 0xa569828>"
      ]
     },
     "metadata": {},
     "output_type": "display_data"
    }
   ],
   "source": [
    "#RUNNING THROUGH VARIOUS PARAMETERS WITH CV SET\n",
    "visualize= {}\n",
    "visualize[\"C\"]=[1,2,4,6,8,10,12,14,16,18,20]\n",
    "visualize[\"r2CCV\"] = []\n",
    "visualize[\"rmsCCV\"] = []\n",
    "\n",
    "for Ci in visualize[\"C\"]:\n",
    "    print(\"C = \"+str(Ci))\n",
    "    clf = SVR(C=Ci, kernel='rbf', gamma= bestgamma);\n",
    "    clf.fit(X_training, y_training)\n",
    "    \n",
    "    y_true, y_pred = y_CV, clf.predict(X_CV)\n",
    "    visualize[\"r2CCV\"].append(r2_score(y_true, y_pred))\n",
    "    visualize[\"rmsCCV\"].append(rms(y_true, y_pred))\n",
    "\n",
    "plt.scatter(visualize[\"C\"], visualize[\"rmsCCV\"], c='r')\n",
    "plt.xlabel('C Value')\n",
    "plt.ylabel('RMS of Cross Validation Set')\n",
    "plt.title('Support Vector Regression RBF, gamma = '+str(bestgamma))\n",
    "\n",
    "visualize"
   ]
  },
  {
   "cell_type": "code",
   "execution_count": 8,
   "metadata": {
    "collapsed": false
   },
   "outputs": [
    {
     "name": "stdout",
     "output_type": "stream",
     "text": [
      "Gamma = 0.1\n",
      "Gamma = 0.12\n",
      "Gamma = 0.14\n",
      "Gamma = 0.16\n",
      "Gamma = 0.18\n",
      "Gamma = 0.2\n",
      "Gamma = 0.22\n",
      "Gamma = 0.24\n",
      "Gamma = 0.26\n",
      "Gamma = 0.28\n"
     ]
    },
    {
     "data": {
      "text/plain": [
       "{'Gamma': [0.1, 0.12, 0.14, 0.16, 0.18, 0.2, 0.22, 0.24, 0.26, 0.28],\n",
       " 'r2GCV': [0.96085366573472319,\n",
       "  0.96084600808641119,\n",
       "  0.96082183581628922,\n",
       "  0.96079576573991488,\n",
       "  0.96077964844597796,\n",
       "  0.96076552801113191,\n",
       "  0.96075577119400812,\n",
       "  0.96073983886912762,\n",
       "  0.96072344342894955,\n",
       "  0.96070836032980367],\n",
       " 'rmsGCV': [98.45033384243267,\n",
       "  98.469592300393359,\n",
       "  98.530383894495571,\n",
       "  98.595948340580122,\n",
       "  98.636482224493307,\n",
       "  98.671994145358383,\n",
       "  98.696531868266689,\n",
       "  98.736600567745583,\n",
       "  98.777833970293031,\n",
       "  98.81576692555349]}"
      ]
     },
     "execution_count": 8,
     "metadata": {},
     "output_type": "execute_result"
    },
    {
     "data": {
      "image/png": "[encoded data removed]",
      "text/plain": [
       "<matplotlib.figure.Figure at 0xa57c7b8>"
      ]
     },
     "metadata": {},
     "output_type": "display_data"
    }
   ],
   "source": [
    "visualize2= {}\n",
    "visualize2[\"Gamma\"]=[0.1,0.12,0.14,0.16,0.18, 0.2, 0.22, 0.24, 0.26, 0.28]\n",
    "visualize2[\"r2GCV\"]=[]\n",
    "visualize2[\"rmsGCV\"]=[]\n",
    "\n",
    "for Gammai in visualize2[\"Gamma\"]:\n",
    "    print(\"Gamma = \"+str(Gammai))\n",
    "    clf = SVR(C=bestC, kernel='rbf', gamma= Gammai);\n",
    "    clf.fit(X_training, y_training)\n",
    "    \n",
    "    y_true, y_pred = y_CV, clf.predict(X_CV)\n",
    "    visualize2[\"r2GCV\"].append(r2_score(y_true, y_pred))\n",
    "    visualize2[\"rmsGCV\"].append(rms(y_true, y_pred))\n",
    "\n",
    "plt.scatter(visualize2[\"Gamma\"], visualize2[\"rmsGCV\"], c='r')\n",
    "plt.xlabel('Gamma Value')\n",
    "plt.ylabel('RMS of Cross Validation Set')\n",
    "plt.title('Support Vector Regression RBF, C = '+str(bestC))\n",
    "visualize2"
   ]
  },
  {
   "cell_type": "code",
   "execution_count": 7,
   "metadata": {
    "collapsed": false,
    "scrolled": false
   },
   "outputs": [
    {
     "name": "stdout",
     "output_type": "stream",
     "text": [
      "R2 Score, C=26, Gamma= 0.2:\n",
      "0.963460197907\n",
      "RMS, C=26, Gamma= 0.2:\n",
      "184.926508093\n"
     ]
    }
   ],
   "source": [
    "#CLF, C=80\n",
    "clffinal = SVR(C=bestC, kernel='rbf', gamma= bestgamma);\n",
    "clffinal.fit(X_training, y_training)\n",
    "\n",
    "y_true, y_pred1 = y_test, clffinal.predict(X_test)"
   ]
  },
  {
   "cell_type": "code",
   "execution_count": 25,
   "metadata": {
    "collapsed": false,
    "scrolled": true
   },
   "outputs": [
    {
     "name": "stdout",
     "output_type": "stream",
     "text": [
      "R2 Score, C=26, Gamma= 0.2:\n",
      "0.963460197907\n",
      "RMS, C=26, Gamma= 0.2:\n",
      "184.926508093\n",
      "sqrt of RMS, C=26, Gamma= 0.2:\n",
      "13.5987686241\n"
     ]
    },
    {
     "data": {
      "text/plain": [
       "<matplotlib.text.Text at 0xb86e588>"
      ]
     },
     "execution_count": 25,
     "metadata": {},
     "output_type": "execute_result"
    },
    {
     "data": {
      "image/png": "[encoded data removed]",
      "text/plain": [
       "<matplotlib.figure.Figure at 0x9a53550>"
      ]
     },
     "metadata": {},
     "output_type": "display_data"
    }
   ],
   "source": [
    "print(\"R2 Score, C=\"+str(bestC)+\", Gamma= \"+str(bestgamma))\n",
    "print(r2_score(y_true, y_pred1))\n",
    "print(\"RMS, C=\"+str(bestC)+\", Gamma= \"+str(bestgamma))\n",
    "print(rms(y_true, y_pred1))\n",
    "print(\"sqrt of RMS, C=\"+str(bestC)+\", Gamma= \"+str(bestgamma))\n",
    "print(np.sqrt(rms(y_true,y_pred1)));\n",
    "print(\"MAE, C=\"+str(bestC)+\", Gamma= \"+str(bestgamma))\n",
    "print(mae(y_true, y_pred1))\n",
    "\n",
    "X_graph = list(range(0,len(y_true)))\n",
    "plt.scatter(y_true[0:40], y_pred1[0:40], c='b')\n",
    "plt.scatter(y_true[0:40], y_true[0:40], c='r')\n",
    "#plt.scatter(X_graph, y_pred1, c='b')\n",
    "plt.xlabel('Time')\n",
    "plt.ylabel('Production')\n",
    "plt.title('Support Vector Regression RBF, C = '+str(bestC))"
   ]
  },
  {
   "cell_type": "code",
   "execution_count": 19,
   "metadata": {
    "collapsed": false
   },
   "outputs": [
    {
     "data": {
      "text/plain": [
       "<matplotlib.text.Text at 0x9aff898>"
      ]
     },
     "execution_count": 19,
     "metadata": {},
     "output_type": "execute_result"
    },
    {
     "data": {
      "image/png": "[encoded data removed]",
      "text/plain": [
       "<matplotlib.figure.Figure at 0x9acbda0>"
      ]
     },
     "metadata": {},
     "output_type": "display_data"
    }
   ],
   "source": [
    "visualize3 = {'C': [5, 10, 15, 20, 22, 24, 26, 28, 30, 32, 34, 36, 38],\n",
    " 'r2CCV': [0.96074931894747406, \n",
    "           0.96075498258872238, \n",
    "           0.96072778869012354, \n",
    "           0.96071040335365787, \n",
    "           0.96070511258101254,\n",
    "           0.96070007471059427,\n",
    "           0.96069304577230552,\n",
    "           0.9606880075382731,\n",
    "           0.96068430344058942,\n",
    "           0.96067639549762784,\n",
    "           0.96066997651607899,\n",
    "           0.96066320347074807,\n",
    "           0.96065908659922117],\n",
    " 'rmsCCV': [98.712758823797415, \n",
    "            98.698515156232489, \n",
    "            98.766905937790384, \n",
    "            98.810628861306526, \n",
    "            98.823934790022221,\n",
    "            98.836604687059619,\n",
    "            98.854281982624329,\n",
    "            98.866952794126348,\n",
    "            98.876268344621437,\n",
    "            98.896156276382598,\n",
    "            98.912299572767182,\n",
    "            98.929333315171959,\n",
    "            98.939686963445993]}\n",
    "\n",
    "plt.scatter(visualize3[\"C\"], visualize3[\"rmsCCV\"], c='r')\n",
    "plt.xlabel('C Value')\n",
    "plt.ylabel('RMS of Cross Validation Set')\n",
    "plt.title('Support Vector Regression RBF, C = '+str(bestC))"
   ]
  }
 ],
 "metadata": {
  "kernelspec": {
   "display_name": "Python 3",
   "language": "python",
   "name": "python3"
  },
  "language_info": {
   "codemirror_mode": {
    "name": "ipython",
    "version": 3
   },
   "file_extension": ".py",
   "mimetype": "text/x-python",
   "name": "python",
   "nbconvert_exporter": "python",
   "pygments_lexer": "ipython3",
   "version": "3.4.3"
  }
 },
 "nbformat": 4,
 "nbformat_minor": 0
}
