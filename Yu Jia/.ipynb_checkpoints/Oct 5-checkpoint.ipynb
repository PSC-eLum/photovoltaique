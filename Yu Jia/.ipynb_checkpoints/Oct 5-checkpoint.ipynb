{
 "cells": [
  {
   "cell_type": "code",
   "execution_count": 1,
   "metadata": {
    "collapsed": true
   },
   "outputs": [],
   "source": [
    "%matplotlib inline\n",
    "\n",
    "import datetime\n",
    "import time\n",
    "import csv\n",
    "import numpy as np\n",
    "import matplotlib.pyplot as plt\n",
    "import matplotlib.dates as dts\n",
    "from sklearn import linear_model as lm\n",
    "from sklearn.decomposition import RandomizedPCA"
   ]
  },
  {
   "cell_type": "code",
   "execution_count": 2,
   "metadata": {
    "collapsed": true
   },
   "outputs": [],
   "source": [
    "f = open(\"data_compteurgeneral_second_2015_09.csv\", \"r\")\n",
    "\n",
    "headers = open(\"Headers_CompteurGeneral.txt\", \"w\")\n",
    "for row in csv.reader(f):\n",
    "    for i in range(0, len(row)):\n",
    "        headers.write(row[i] + '\\n')\n",
    "    break\n",
    "headers.close()\n",
    "\n",
    "time = []; gen = []; use = []; pp1 = []; pp2 = []; pp3 = []; ip1 = []; ip2 = []; ip3 = []; mcb = []\n",
    "total = [time, gen, use, pp1, pp2, pp3, ip1, ip2, ip3, mcb]\n",
    "\n",
    "for row in csv.reader(f):\n",
    "    n = len(total[0])\n",
    "    time.insert(n,datetime.datetime.strptime(row[0], \"%Y-%m-%d %H:%M:%S\"))\n",
    "    for i in range(1, len(total)):\n",
    "        total[i].insert(n,row[i]);"
   ]
  },
  {
   "cell_type": "code",
   "execution_count": 4,
   "metadata": {
    "collapsed": false
   },
   "outputs": [
    {
     "name": "stdout",
     "output_type": "stream",
     "text": [
      "Coefficients: \n",
      " [[ 1.  1.  1.]]\n",
      "Residual sum of squares: 3.90\n",
      "Variance score: 0.82\n"
     ]
    },
    {
     "data": {
      "image/png": "[encoded data removed]",
      "text/plain": [
       "<matplotlib.figure.Figure at 0x744b438>"
      ]
     },
     "metadata": {},
     "output_type": "display_data"
    },
    {
     "data": {
      "image/png": "[encoded data removed]",
      "text/plain": [
       "<matplotlib.figure.Figure at 0xb34c278>"
      ]
     },
     "metadata": {},
     "output_type": "display_data"
    }
   ],
   "source": [
    "# MULTI VAR LINEAR REG\n",
    "\n",
    "size = len(pp1)\n",
    "X_training = np.array([pp1[:-int(size/10)], pp2[:-int(size/10)], pp3[:-int(size/10)]]).astype(np.float)\n",
    "X_training = np.reshape(X_training,(3,int(9*size/10)))\n",
    "X_training = np.transpose(X_training)\n",
    "\n",
    "Y_training = np.array(gen[:-int(size/10)]).astype(np.float)\n",
    "Y_training = np.reshape(Y_training,(len(Y_training),1))\n",
    "\n",
    "X_test = np.array([pp1[-int(size/10):],pp2[-int(size/10):],pp3[-int(size/10):]]).astype(np.float)\n",
    "X_test = np.reshape(X_test,(3,int(size/10)))\n",
    "X_test = np.transpose(X_test)\n",
    "\n",
    "Y_test = np.array(gen[-int(size/10):]).astype(np.float)\n",
    "Y_test = np.reshape(Y_test,(len(Y_test),1))\n",
    "\n",
    "regr = lm.LinearRegression() #classifier\n",
    "regr.fit(X_training,Y_training)\n",
    "\n",
    "# The coefficients\n",
    "print('Coefficients: \\n', regr.coef_)\n",
    "# The mean square error\n",
    "print(\"Residual sum of squares: %.2f\"\n",
    "      % np.mean((regr.predict(X_test) - Y_test) ** 2))\n",
    "# Explained variance score: 1 is perfect prediction\n",
    "print('Variance score: %.2f' % regr.score(X_test, Y_test))\n",
    "\n",
    "\n",
    "# Plot outputs\n",
    "time_plot = dts.date2num(time)\n",
    "plt.plot(time_plot[-int(size/10):], Y_test)\n",
    "plt.title(\"Generation wrt time (Multivar Linear Regression)\")\n",
    "plt.show()\n",
    "\n",
    "plt.plot(time_plot[-int(size/10):], regr.predict(X_test))\n",
    "plt.title(\"Predictor of Generation wrt time (Multivar Linear Regression)\")\n",
    "plt.show()\n",
    "\n",
    "#WHY DOES IT LOOK SO WEIRD T_T"
   ]
  },
  {
   "cell_type": "code",
   "execution_count": 6,
   "metadata": {
    "collapsed": false
   },
   "outputs": [
    {
     "name": "stdout",
     "output_type": "stream",
     "text": [
      "[ 0.99045166  0.00846811  0.00108023]\n"
     ]
    }
   ],
   "source": [
    "#Randomized PCA\n",
    "\n",
    "X = np.array([pp1,pp2,pp3])\n",
    "X = np.transpose(X)\n",
    "pca = RandomizedPCA(n_components = 3)\n",
    "pca.fit(X)\n",
    "X = pca.transform(X)\n",
    "\n",
    "print(pca.explained_variance_ratio_)"
   ]
  },
  {
   "cell_type": "code",
   "execution_count": null,
   "metadata": {
    "collapsed": true
   },
   "outputs": [],
   "source": []
  }
 ],
 "metadata": {
  "kernelspec": {
   "display_name": "Python 3",
   "language": "python",
   "name": "python3"
  },
  "language_info": {
   "codemirror_mode": {
    "name": "ipython",
    "version": 3
   },
   "file_extension": ".py",
   "mimetype": "text/x-python",
   "name": "python",
   "nbconvert_exporter": "python",
   "pygments_lexer": "ipython3",
   "version": "3.4.3"
  }
 },
 "nbformat": 4,
 "nbformat_minor": 0
}
