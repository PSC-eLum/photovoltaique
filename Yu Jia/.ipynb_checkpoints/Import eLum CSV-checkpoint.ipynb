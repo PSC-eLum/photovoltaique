{
 "cells": [
  {
   "cell_type": "markdown",
   "metadata": {
    "collapsed": true
   },
   "source": [
    "### Hour over Day"
   ]
  },
  {
   "cell_type": "code",
   "execution_count": 8,
   "metadata": {
    "collapsed": false
   },
   "outputs": [
    {
     "data": {
      "image/png": "[encoded data removed]",
      "text/plain": [
       "<matplotlib.figure.Figure at 0x7391c88>"
      ]
     },
     "metadata": {},
     "output_type": "display_data"
    }
   ],
   "source": [
    "%matplotlib inline\n",
    "import csv\n",
    "usage = []\n",
    "generation = []\n",
    "\n",
    "f = open(\"data_hour_over_day.csv\", \"r\")\n",
    "headers = open(\"Headers.txt\", \"w\")\n",
    "\n",
    "for row in csv.reader(f):\n",
    "    for i in range(0, len(row)):\n",
    "        headers.write(row[i] + '\\n')\n",
    "    break\n",
    "headers.close()\n",
    "time = 0\n",
    "for row in csv.reader(f):\n",
    "    inttime = int((row[0])[-5:-3]+(row[0])[-2:])\n",
    "    usage.insert(time, float(row[1]))\n",
    "    time=time+1\n",
    "    \n",
    "import numpy as np\n",
    "import matplotlib.pyplot as plt\n",
    "\n",
    "plt.plot(usage)\n",
    "plt.ylabel(\"Usage (kW)\")\n",
    "plt.xlabel(\"Time (h)\")\n",
    "plt.show()"
   ]
  },
  {
   "cell_type": "markdown",
   "metadata": {
    "collapsed": false
   },
   "source": [
    "### Min over Day data"
   ]
  },
  {
   "cell_type": "code",
   "execution_count": 5,
   "metadata": {
    "collapsed": true
   },
   "outputs": [],
   "source": [
    "import csv\n",
    "import numpy as np\n",
    "import matplotlib.pyplot as plt\n",
    "\n",
    "usage = []\n",
    "generation = []\n",
    "\n",
    "f = open(\"data_minute_over_month.csv\", \"r\")\n",
    "headers = open(\"Headers2.txt\", \"w\")\n",
    "\n",
    "for row in csv.reader(f):\n",
    "    for i in range(0, len(row)):\n",
    "        headers.write(row[i] + '\\n')\n",
    "    break\n",
    "headers.close()\n",
    "time = 0\n",
    "for row in csv.reader(f):\n",
    "    inttime = int((row[0])[-5:-3]+(row[0])[-2:])\n",
    "    usage.insert(time, float(row[1]))\n",
    "    time=time+1\n",
    "    \n",
    "plt.plot(usage)\n",
    "plt.ylabel(\"Usage (kW)\")\n",
    "plt.xlabel(\"Time (min)\")\n",
    "plt.grid(True)\n",
    "plt.xticks([i*60 for i in range(0,25)], fontsize = 10)\n",
    "plt.title('Usage (kW) over Time (min) over a month')\n",
    "#plt.show()\n",
    "plt.savefig('Usage over Time of min over day.png')"
   ]
  },
  {
   "cell_type": "markdown",
   "metadata": {
    "collapsed": true
   },
   "source": [
    "###Importing data to see headers:"
   ]
  },
  {
   "cell_type": "code",
   "execution_count": 4,
   "metadata": {
    "collapsed": false
   },
   "outputs": [
    {
     "name": "stdout",
     "output_type": "stream",
     "text": [
      "0 Date & Time\n",
      "1 Usage [kW]\n",
      "2 Generation [kW]\n",
      "3 A.use [kW]\n",
      "4 A.Plugin Hybrid [kW]\n",
      "5 Temps.Panel Temperature [C]\n",
      "6 Temps.Wind [m/s]\n",
      "7 B.use [kW]\n",
      "8 A.gen [kW]\n",
      "9 FFT.use [kW]\n",
      "10 FFT.CT1 phi [kW]\n",
      "11 FFT.CT1 THD [%]\n",
      "12 Temps.use [C]\n",
      "13 catchup []\n",
      "14 Solar Tigo+SPR predicted [kW]\n",
      "15 CT1 THD [%]\n",
      "16 CT1 Power [kW]\n",
      "17 CT1 Power* [kVA]\n",
      "18 Usage Cost [/s]\n",
      "19 Solar SPR [kW]\n",
      "20 Solar Tigo+SPR [kW]\n",
      "21 Grid [kW]\n",
      "22 Solar SPR (pos) [kW]\n",
      "23 EV Charging [kW]\n",
      "24 Irradiance [W/m^2]\n",
      "25 Panel Temp [C]\n",
      "26 Ambient Temp [C]\n",
      "27 Wind Speed [m/s]\n",
      "28 SMA Pac [kW]\n"
     ]
    }
   ],
   "source": [
    "import csv\n",
    "\n",
    "f = open(\"data_minute_over_month.csv\", \"r\")\n",
    "\n",
    "for row in csv.reader(f):\n",
    "    for i in range(0, len(row)):\n",
    "        print(str(i)+\" \"+row[i])\n",
    "    break"
   ]
  }
 ],
 "metadata": {
  "kernelspec": {
   "display_name": "Python 3",
   "language": "python",
   "name": "python3"
  },
  "language_info": {
   "codemirror_mode": {
    "name": "ipython",
    "version": 3
   },
   "file_extension": ".py",
   "mimetype": "text/x-python",
   "name": "python",
   "nbconvert_exporter": "python",
   "pygments_lexer": "ipython3",
   "version": "3.4.3"
  }
 },
 "nbformat": 4,
 "nbformat_minor": 0
}
