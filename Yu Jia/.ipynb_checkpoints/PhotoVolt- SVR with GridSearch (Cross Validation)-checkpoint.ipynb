{
 "cells": [
  {
   "cell_type": "markdown",
   "metadata": {},
   "source": [
    "Train - CV - Test = 60:20:20"
   ]
  },
  {
   "cell_type": "code",
   "execution_count": 8,
   "metadata": {
    "collapsed": true
   },
   "outputs": [],
   "source": [
    "# IMPORT MODULES\n",
    "\n",
    "%matplotlib inline\n",
    "\n",
    "import datetime\n",
    "import time\n",
    "import numpy as np\n",
    "import matplotlib.pyplot as plt\n",
    "import matplotlib.dates as dts\n",
    "import calendar\n",
    "\n",
    "import sklearn.preprocessing as pp\n",
    "from sklearn.svm import SVR\n",
    "from sklearn.cross_validation import train_test_split\n",
    "from sklearn.cross_validation import KFold as KF\n",
    "from sklearn.grid_search import GridSearchCV\n",
    "from sklearn.metrics import r2_score\n",
    "from sklearn.metrics import mean_squared_error as rms\n",
    "\n",
    "import pandas as pd"
   ]
  },
  {
   "cell_type": "code",
   "execution_count": 2,
   "metadata": {
    "collapsed": false
   },
   "outputs": [],
   "source": [
    "# READ DATA\n",
    "data = pd.read_csv(\"DonneesMeteo.txt\", sep=\" \", header=1)\n",
    "data[\"Date\"] = pd.to_datetime(data[\"Date\"], format=\"%Y%m%d\")"
   ]
  },
  {
   "cell_type": "code",
   "execution_count": 12,
   "metadata": {
    "collapsed": false
   },
   "outputs": [],
   "source": [
    "dataset = np.array(data[[\"hh(UTC)\", \"IrrPOA(W/m2)\", \"P1(W)\"]]).astype(np.float)\n",
    "\n",
    "#Remove nan and infinite values\n",
    "masknan = ~np.any(np.isnan(dataset), axis=1)\n",
    "dataset = dataset[masknan]\n",
    "maskfin = np.any(np.isfinite(dataset), axis=1)\n",
    "dataset = dataset[maskfin]\n",
    "X=dataset[:,0:2]\n",
    "y=dataset[:,2]\n",
    "\n",
    "X[:,1]=np.round(X[:,1],decimals=0)\n",
    "\n",
    "#LABEL BINARIZER\n",
    "lb = pp.LabelBinarizer()\n",
    "lb.fit([1, 2, 3, 4,5,6,7,8,9,10,11,12,13,14,15,16,17,18,19, 20, 21, 22, 23, 0])\n",
    "pp.LabelBinarizer(neg_label=0, pos_label=1)\n",
    "lb.classes_\n",
    "Hour=lb.fit_transform(X[:,1])\n",
    "Irr = np.reshape(X[:,0],(len(X),1))\n",
    "\n",
    "X=np.concatenate((Irr,Hour),axis=1)"
   ]
  },
  {
   "cell_type": "code",
   "execution_count": 13,
   "metadata": {
    "collapsed": false
   },
   "outputs": [],
   "source": [
    "#Split Training + CV and Test set\n",
    "X_training, X_test, y_training, y_test = train_test_split(X, y, test_size=0.2, random_state=0)\n",
    "\n",
    "#SCALE INDEPENDENT DATA\n",
    "scaler = pp.StandardScaler()\n",
    "X_training=scaler.fit_transform(X_training)\n",
    "X_test=scaler.transform(X_test)\n",
    "\n",
    "#Parameters to optimize\n",
    "parameters = [{'kernel': ['rbf'], 'gamma': [1, 1e-1, 1e-2, 1e-3, 1e-4], 'C': [1, 10, 100]}]"
   ]
  },
  {
   "cell_type": "code",
   "execution_count": null,
   "metadata": {
    "collapsed": false,
    "scrolled": true
   },
   "outputs": [],
   "source": [
    "print(\"# Tuning parameters for R2 Score\")\n",
    "#scores = {\"r2\", rms}\n",
    "#for score in scores:\n",
    "clf = GridSearchCV(SVR(C=1), parameters, scoring=\"r2\", cv=8)\n",
    "clf.fit(X_training, y_training)\n",
    "    \n",
    "print(\"Best parameters set found on development set using: \")\n",
    "print(clf.best_params_)\n",
    "    \n",
    "y_true, y_pred = y_test, clf.predict(X_test)\n",
    "    \n",
    "print(\"R2 Score\")\n",
    "print(rms(y_true, y_pred))"
   ]
  }
 ],
 "metadata": {
  "kernelspec": {
   "display_name": "Python 3",
   "language": "python",
   "name": "python3"
  },
  "language_info": {
   "codemirror_mode": {
    "name": "ipython",
    "version": 3
   },
   "file_extension": ".py",
   "mimetype": "text/x-python",
   "name": "python",
   "nbconvert_exporter": "python",
   "pygments_lexer": "ipython3",
   "version": "3.4.3"
  }
 },
 "nbformat": 4,
 "nbformat_minor": 0
}
