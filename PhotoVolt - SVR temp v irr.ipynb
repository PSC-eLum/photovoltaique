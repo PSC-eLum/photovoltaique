{
 "cells": [
  {
   "cell_type": "markdown",
   "metadata": {},
   "source": [
    "USE SVM with\n",
    "1) linear kernel\n",
    "2) polynomial kernel\n",
    "3) RBF kernel\n",
    "\n",
    "Factors to choose for prediction: \n",
    "(possible: Sky cover, relative humidity, precipitation, temperature, dew point, wind speed)\n",
    "\n",
    "Training set:\n",
    "CV:\n",
    "Test set: \n",
    "\n",
    "Short term weather forecasts for how many hours into the future?\n",
    "\n",
    "Use PCA to improve and reduce redundant parameters // examine correlation between variables to begin with and choose that which isn't related"
   ]
  },
  {
   "cell_type": "code",
   "execution_count": 1,
   "metadata": {
    "collapsed": false
   },
   "outputs": [],
   "source": [
    "# IMPORT MODULES\n",
    "\n",
    "%matplotlib inline\n",
    "\n",
    "import datetime\n",
    "import time\n",
    "import numpy as np\n",
    "from sklearn.svm import SVR\n",
    "import matplotlib.pyplot as plt\n",
    "import matplotlib.dates as dts\n",
    "import calendar\n",
    "import sklearn.preprocessing as pp\n",
    "\n",
    "import pandas as pd"
   ]
  },
  {
   "cell_type": "code",
   "execution_count": 2,
   "metadata": {
    "collapsed": false
   },
   "outputs": [],
   "source": [
    "# READ DATA\n",
    "data = pd.read_csv(\"DonneesMeteo.txt\", sep=\" \", header=1)\n",
    "data[\"Date\"] = pd.to_datetime(data[\"Date\"], format=\"%Y%m%d\")"
   ]
  },
  {
   "cell_type": "code",
   "execution_count": 3,
   "metadata": {
    "collapsed": false
   },
   "outputs": [],
   "source": [
    "dataset = np.array(data[[\"T(C)\", \"IrrPOA(W/m2)\"]]).astype(np.float)\n",
    "\n",
    "#Remove nan and infinite values\n",
    "masknan = ~np.any(np.isnan(dataset), axis=1)\n",
    "dataset = dataset[masknan]\n",
    "maskfin = np.any(np.isfinite(dataset), axis=1)\n",
    "dataset = dataset[maskfin]\n",
    "X=dataset[:,0]\n",
    "y=dataset[:,1]\n",
    "\n",
    "X = np.reshape(X,(len(X),1))\n",
    "\n",
    "#check if nan and inf values\n",
    "#print(np.any(np.isnan(X)))\n",
    "#print(np.any(np.isnan(y)))\n",
    "#print(np.all(np.isfinite(X)))\n",
    "#print(np.all(np.isfinite(y)))\n",
    "\n",
    "#check shape\n",
    "#print(np.shape(X))\n",
    "#print(np.shape(y))\n",
    "\n",
    "#SCALE INDEPENDENT DATA\n",
    "X=pp.StandardScaler().fit_transform(X)"
   ]
  },
  {
   "cell_type": "code",
   "execution_count": 12,
   "metadata": {
    "collapsed": false
   },
   "outputs": [],
   "source": [
    "X_training = X[0:9*len(X)/10]\n",
    "X_test = X[9*len(X)/10:len(X)]\n",
    "\n",
    "y_training = y[0:9*len(y)/10]\n",
    "y_test = y[9*len(y)/10:len(y)]"
   ]
  },
  {
   "cell_type": "code",
   "execution_count": 13,
   "metadata": {
    "collapsed": false
   },
   "outputs": [
    {
     "data": {
      "image/png": "[encoded data removed]",
      "text/plain": [
       "<matplotlib.figure.Figure at 0x9375cf8>"
      ]
     },
     "metadata": {},
     "output_type": "display_data"
    },
    {
     "name": "stdout",
     "output_type": "stream",
     "text": [
      "0.0251002057339\n"
     ]
    }
   ],
   "source": [
    "#Setting C: C is 1 by default. Noisy observations : decrease C\n",
    "\n",
    "#svr_lin = SVR(kernel='linear')\n",
    "#svr_lin.fit(X_training, y_training)\n",
    "#y_lin = svr_lin.predict(X_test)\n",
    "\n",
    "#svr_rbf = SVR(kernel='rbf')\n",
    "#svr_rbf.fit(X_training, y_training)\n",
    "#y_rbf = svr_rbf.predict(X_test)\n",
    "\n",
    "svr_poly = SVR(kernel='poly')\n",
    "svr_poly.fit(X_training, y_training)\n",
    "y_poly = svr_poly.predict(X_test)\n",
    "\n",
    "# look at the results\n",
    "plt.scatter(X_test, y_test, c='k', label='data')\n",
    "plt.hold('on')\n",
    "#plt.plot(X_test, y_lin, c='r', label='Linear model')\n",
    "#plt.plot(X_test, y_rbf, c='g', label='RBF model')\n",
    "plt.plot(X_test, y_poly, c='b', label='Polynomial model')\n",
    "plt.xlabel('Temperature')\n",
    "plt.ylabel('Irradiance')\n",
    "plt.title('Support Vector Regression')\n",
    "plt.legend()\n",
    "plt.show()\n",
    "\n",
    "#R^2 score: nearer 1 the better\n",
    "#print(svr_lin.score(X_test,y_test)) \n",
    "#print(svr_rbf.score(X_test,y_test) \n",
    "print(svr_poly.score(X_test,y_test)) "
   ]
  }
 ],
 "metadata": {
  "kernelspec": {
   "display_name": "Python 3",
   "language": "python",
   "name": "python3"
  },
  "language_info": {
   "codemirror_mode": {
    "name": "ipython",
    "version": 3
   },
   "file_extension": ".py",
   "mimetype": "text/x-python",
   "name": "python",
   "nbconvert_exporter": "python",
   "pygments_lexer": "ipython3",
   "version": "3.4.3"
  }
 },
 "nbformat": 4,
 "nbformat_minor": 0
}
