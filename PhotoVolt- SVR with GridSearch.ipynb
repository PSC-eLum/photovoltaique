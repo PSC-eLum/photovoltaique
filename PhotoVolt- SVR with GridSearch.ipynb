{
 "cells": [
  {
   "cell_type": "markdown",
   "metadata": {},
   "source": [
    "###todo: add more variables from public data : time?\n",
    "###change settings on SVR\n",
    "\n",
    "### Sky cover, relative humidity, precipitation, temperature, dew point, wind speed\n",
    "\n",
    "Short term weather forecasts for next day as well as for next three days\n",
    "\n",
    " Photovoltaic, meteorological and radiative measurements at SIRTA\n",
    " ####Col 7: Measured solar irradiance on the plane of the panels (27.7�)(zone 1)\n",
    " ####Col 12: 2-m Air temperature (zone 1)\n",
    " ####Col 14: 10-m Wind speed (zone 1)\n",
    " \n",
    "Tuning hyper-parameters for R^2 Score (time irr)\n",
    "Best parameters set found on development set:\n",
    "{'gamma': 0.001, 'C': 10, 'kernel': 'rbf'}\n",
    "Detailed report:\n",
    "0.178399326674\n",
    "\n",
    "### Tuning hyper-parameters for R2 Score (irr p1)\n",
    "Best parameters set found on development set:\n",
    "{'C': 10, 'kernel': 'rbf', 'gamma': 1}\n",
    "R2 Score:\n",
    "0.965792921757"
   ]
  },
  {
   "cell_type": "code",
   "execution_count": 1,
   "metadata": {
    "collapsed": true
   },
   "outputs": [],
   "source": [
    "# IMPORT MODULES\n",
    "\n",
    "%matplotlib inline\n",
    "\n",
    "import datetime\n",
    "import time\n",
    "import numpy as np\n",
    "import matplotlib.pyplot as plt\n",
    "import matplotlib.dates as dts\n",
    "import calendar\n",
    "\n",
    "import sklearn.preprocessing as pp\n",
    "from sklearn.svm import SVR\n",
    "from sklearn.cross_validation import train_test_split\n",
    "from sklearn.grid_search import GridSearchCV\n",
    "from sklearn.metrics import r2_score\n",
    "\n",
    "import pandas as pd"
   ]
  },
  {
   "cell_type": "code",
   "execution_count": 2,
   "metadata": {
    "collapsed": false
   },
   "outputs": [
    {
     "data": {
      "text/plain": [
       "'\\nprint(data.columns.values.tolist())\\n\\n\\nplt.xlabel(\\'Time\\')\\nplt.ylabel(\\'Irradiance\\')\\nplt.scatter(data[\"hh(UTC)\"], data[\"IrrPOA(W/m2)\"], c=\\'k\\', label=\\'data\\')\\nplt.show()\\n\\nplt.xlabel(\\'Temperature\\')\\nplt.ylabel(\\'Irradiance\\')\\nplt.scatter(data[\"T(C)\"], data[\"IrrPOA(W/m2)\"], c=\\'k\\', label=\\'data\\')\\nplt.show()\\n\\nplt.xlabel(\\'Wind Speed\\')\\nplt.ylabel(\\'Irradiance\\')\\nplt.scatter(data[\"WS(m/s)\"], data[\"IrrPOA(W/m2)\"], c=\\'k\\', label=\\'data\\')\\nplt.show()\\n'"
      ]
     },
     "execution_count": 2,
     "metadata": {},
     "output_type": "execute_result"
    }
   ],
   "source": [
    "# READ DATA\n",
    "data = pd.read_csv(\"DonneesMeteo.txt\", sep=\" \", header=1)\n",
    "data[\"Date\"] = pd.to_datetime(data[\"Date\"], format=\"%Y%m%d\")\n",
    "#data[\"hh(UTC)\"] = pd.to_datetime(data[\"hh(UTC)\"], format=\"%H.\")\n",
    "data.corr()[\"IrrPOA(W/m2)\"].copy\n",
    "'''\n",
    "print(data.columns.values.tolist())\n",
    "\n",
    "\n",
    "plt.xlabel('Time')\n",
    "plt.ylabel('Irradiance')\n",
    "plt.scatter(data[\"hh(UTC)\"], data[\"IrrPOA(W/m2)\"], c='k', label='data')\n",
    "plt.show()\n",
    "\n",
    "plt.xlabel('Temperature')\n",
    "plt.ylabel('Irradiance')\n",
    "plt.scatter(data[\"T(C)\"], data[\"IrrPOA(W/m2)\"], c='k', label='data')\n",
    "plt.show()\n",
    "\n",
    "plt.xlabel('Wind Speed')\n",
    "plt.ylabel('Irradiance')\n",
    "plt.scatter(data[\"WS(m/s)\"], data[\"IrrPOA(W/m2)\"], c='k', label='data')\n",
    "plt.show()\n",
    "'''"
   ]
  },
  {
   "cell_type": "code",
   "execution_count": 3,
   "metadata": {
    "collapsed": false
   },
   "outputs": [],
   "source": [
    "dataset = np.array(data[[\"hh(UTC)\", \"IrrPOA(W/m2)\", \"P1(W)\"]]).astype(np.float)\n",
    "\n",
    "#Remove nan and infinite values\n",
    "masknan = ~np.any(np.isnan(dataset), axis=1)\n",
    "dataset = dataset[masknan]\n",
    "maskfin = np.any(np.isfinite(dataset), axis=1)\n",
    "dataset = dataset[maskfin]\n",
    "X=dataset[:,0:2]\n",
    "y=dataset[:,2]\n",
    "\n",
    "X = np.reshape(X,(len(X),2))\n",
    "\n",
    "#SCALE INDEPENDENT DATA - no need here, because time is regular?\n",
    "X=pp.StandardScaler().fit_transform(X)"
   ]
  },
  {
   "cell_type": "code",
   "execution_count": 4,
   "metadata": {
    "collapsed": false
   },
   "outputs": [],
   "source": [
    "X_training, X_test, y_training, y_test = train_test_split(X, y, test_size=0.1, random_state=0)\n",
    "\n",
    "parameters = [{'kernel': ['rbf'], 'gamma': [1, 1e-1, 1e-2, 1e-3, 1e-4], 'C': [1, 10, 100]}]"
   ]
  },
  {
   "cell_type": "code",
   "execution_count": 5,
   "metadata": {
    "collapsed": false,
    "scrolled": true
   },
   "outputs": [
    {
     "name": "stdout",
     "output_type": "stream",
     "text": [
      "# Tuning hyper-parameters for R2 Score\n",
      "Best parameters set found on development set:\n",
      "{'C': 10, 'kernel': 'rbf', 'gamma': 1}\n",
      "R2 Score:\n",
      "0.965792921757\n",
      "Grid Scores:\n"
     ]
    },
    {
     "ename": "AttributeError",
     "evalue": "'GridSearchCV' object has no attribute 'grid_scores'",
     "output_type": "error",
     "traceback": [
      "\u001b[1;31m---------------------------------------------------------------------------\u001b[0m",
      "\u001b[1;31mAttributeError\u001b[0m                            Traceback (most recent call last)",
      "\u001b[1;32m<ipython-input-5-16b3f4d151df>\u001b[0m in \u001b[0;36m<module>\u001b[1;34m()\u001b[0m\n\u001b[0;32m     12\u001b[0m \u001b[1;33m\u001b[0m\u001b[0m\n\u001b[0;32m     13\u001b[0m \u001b[0mprint\u001b[0m\u001b[1;33m(\u001b[0m\u001b[1;34m\"Grid Scores:\"\u001b[0m\u001b[1;33m)\u001b[0m\u001b[1;33m\u001b[0m\u001b[0m\n\u001b[1;32m---> 14\u001b[1;33m \u001b[0mprint\u001b[0m\u001b[1;33m(\u001b[0m\u001b[0mclf\u001b[0m\u001b[1;33m.\u001b[0m\u001b[0mgrid_scores\u001b[0m\u001b[1;33m)\u001b[0m\u001b[1;33m\u001b[0m\u001b[0m\n\u001b[0m",
      "\u001b[1;31mAttributeError\u001b[0m: 'GridSearchCV' object has no attribute 'grid_scores'"
     ]
    }
   ],
   "source": [
    "print(\"# Tuning hyper-parameters for R2 Score\")\n",
    "\n",
    "clf = GridSearchCV(SVR(C=1), parameters, scoring='r2')\n",
    "clf.fit(X_training, y_training)\n",
    "\n",
    "print(\"Best parameters set found on development set:\")\n",
    "print(clf.best_params_)\n",
    "\n",
    "print(\"R2 Score:\")\n",
    "y_true, y_pred = y_test, clf.predict(X_test)\n",
    "print(r2_score(y_true, y_pred))"
   ]
  },
  {
   "cell_type": "code",
   "execution_count": 14,
   "metadata": {
    "collapsed": false
   },
   "outputs": [
    {
     "name": "stdout",
     "output_type": "stream",
     "text": [
      "(4989,)\n",
      "(4989,)\n"
     ]
    },
    {
     "data": {
      "image/png": "[encoded data removed]",
      "text/plain": [
       "<matplotlib.figure.Figure at 0x1af4a9b0>"
      ]
     },
     "metadata": {},
     "output_type": "display_data"
    },
    {
     "name": "stdout",
     "output_type": "stream",
     "text": [
      "(4989,)\n",
      "(4989,)\n"
     ]
    },
    {
     "data": {
      "image/png": "[encoded data removed]",
      "text/plain": [
       "<matplotlib.figure.Figure at 0x1af86b00>"
      ]
     },
     "metadata": {},
     "output_type": "display_data"
    }
   ],
   "source": [
    "print(np.shape(X_test[:,0]))\n",
    "print(np.shape(y_pred))\n",
    "plt.plot(X_test[:,0], y_pred, c='r', label='SVR, RBF, C=10, gamma = 1')\n",
    "#plt.hold('on')\n",
    "\n",
    "plt.scatter(X_test[:,0], y_pred, c='k', label='data')\n",
    "plt.xlabel('Irradiance')\n",
    "plt.ylabel('Production')\n",
    "plt.title('Support Vector Regression')\n",
    "plt.legend()\n",
    "plt.show()\n",
    "\n",
    "print(np.shape(X_test[:,1]))\n",
    "print(np.shape(y_pred))\n",
    "plt.plot(X_test[0:10,0], y_pred[0:10], c='b', label='SVR, RBF, C=10, gamma = 1')\n",
    "#plt.hold('on')\n",
    "\n",
    "plt.scatter(X_test[0:10,0], y_pred[0:10], c='k', label='data')\n",
    "plt.xlabel('UTC(h)')\n",
    "plt.ylabel('Production(W)')\n",
    "plt.title('Support Vector Regression')\n",
    "plt.legend()\n",
    "plt.show()"
   ]
  }
 ],
 "metadata": {
  "kernelspec": {
   "display_name": "Python 3",
   "language": "python",
   "name": "python3"
  },
  "language_info": {
   "codemirror_mode": {
    "name": "ipython",
    "version": 3
   },
   "file_extension": ".py",
   "mimetype": "text/x-python",
   "name": "python",
   "nbconvert_exporter": "python",
   "pygments_lexer": "ipython3",
   "version": "3.4.3"
  }
 },
 "nbformat": 4,
 "nbformat_minor": 0
}
